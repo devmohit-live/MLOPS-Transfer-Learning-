{
 "cells": [
  {
   "cell_type": "code",
   "execution_count": 1,
   "metadata": {},
   "outputs": [],
   "source": [
    "import cv2 as cv\n",
    "import numpy as np\n",
    "import os\n",
    "import PIL\n",
    "\n",
    "# Load HAarcascade file\n",
    "face_classifier = cv.CascadeClassifier('haarcascade_frontalface_default.xml')\n",
    "\n",
    "def find_face(category_name):\n",
    "    # creating folder path if doesn't exists\n",
    "    train_path='F://faces//train//{0}//'.format(category_name)\n",
    "    test_path='F://faces//test//{0}//'.format(category_name)\n",
    "    os.makedirs(train_path, exist_ok = True)\n",
    "    os.makedirs(test_path, exist_ok = True)\n",
    "    global cap\n",
    "    cap = cv.VideoCapture(0)\n",
    "    count = 0\n",
    "    while True:\n",
    "        ret, img = cap.read()\n",
    "        faces = face_classifier.detectMultiScale(img, 1.3, 5)\n",
    "        if len(faces)>0:\n",
    "            count += 1\n",
    "            face = cv.resize(img, (250, 250))\n",
    "            for (x,y,w,h) in faces:\n",
    "                cropped_face = img[y:y+h, x:x+w]\n",
    "                # putting 80% images in train data and 20% in test data\n",
    "                if count<=160: \n",
    "                    cv.imwrite(train_path+str(count)+'.jpg', cropped_face)\n",
    "                else:\n",
    "                    cv.imwrite(test_path+str(count)+'.jpg', cropped_face)\n",
    "        if cv.waitKey(1) == 13 or count == 200:     \n",
    "            break\n",
    "    cap.release()\n",
    "    print(\"Data Collected!\")"
   ]
  },
  {
   "cell_type": "code",
   "execution_count": 2,
   "metadata": {},
   "outputs": [
    {
     "name": "stdout",
     "output_type": "stream",
     "text": [
      "Enter Category name: mohit\n",
      "Data Collected!\n"
     ]
    }
   ],
   "source": [
    "for i in range(1):\n",
    "    cat=input('Enter Category name: ')\n",
    "    find_face(cat)\n",
    "    "
   ]
  },
  {
   "cell_type": "code",
   "execution_count": null,
   "metadata": {},
   "outputs": [],
   "source": []
  }
 ],
 "metadata": {
  "kernelspec": {
   "display_name": "Python 3",
   "language": "python",
   "name": "python3"
  },
  "language_info": {
   "codemirror_mode": {
    "name": "ipython",
    "version": 3
   },
   "file_extension": ".py",
   "mimetype": "text/x-python",
   "name": "python",
   "nbconvert_exporter": "python",
   "pygments_lexer": "ipython3",
   "version": "3.7.7"
  }
 },
 "nbformat": 4,
 "nbformat_minor": 4
}
